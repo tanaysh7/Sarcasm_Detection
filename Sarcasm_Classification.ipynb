{
 "cells": [
  {
   "cell_type": "markdown",
   "metadata": {},
   "source": [
    "### Imports"
   ]
  },
  {
   "cell_type": "code",
   "execution_count": 191,
   "metadata": {},
   "outputs": [],
   "source": [
    "import re\n",
    "import nltk\n",
    "import random\n",
    "import warnings\n",
    "import itertools\n",
    "import numpy as np\n",
    "import pandas as pd\n",
    "import seaborn as sns\n",
    "from keras import metrics\n",
    "from sklearn.svm import SVC\n",
    "from tensorflow import keras\n",
    "from textblob import TextBlob\n",
    "from keras import backend as K\n",
    "from xgboost import XGBClassifier\n",
    "from nltk.corpus import stopwords\n",
    "from keras.models import Sequential\n",
    "from matplotlib import pyplot as plt\n",
    "from sklearn.metrics import f1_score\n",
    "from keras.optimizers import RMSprop\n",
    "from sklearn.pipeline import Pipeline\n",
    "from nltk.stem import WordNetLemmatizer\n",
    "from nltk.tokenize import word_tokenize\n",
    "from sklearn.impute import SimpleImputer\n",
    "from sklearn.pipeline import FeatureUnion\n",
    "from sklearn.model_selection import KFold\n",
    "from sklearn.pipeline import make_pipeline\n",
    "from sklearn.metrics import confusion_matrix\n",
    "from sklearn.compose import ColumnTransformer\n",
    "from sklearn.ensemble import VotingClassifier\n",
    "from sklearn.svm import SVC, LinearSVC, NuSVC\n",
    "from sklearn.ensemble import VotingClassifier\n",
    "from keras.preprocessing.text import Tokenizer\n",
    "from sklearn.tree import DecisionTreeClassifier\n",
    "from sklearn.metrics import classification_report\n",
    "from sklearn.neighbors import KNeighborsClassifier\n",
    "from sklearn.linear_model import LogisticRegression\n",
    "from sklearn.metrics import accuracy_score, log_loss\n",
    "from sklearn.model_selection import train_test_split\n",
    "from sklearn.preprocessing import FunctionTransformer\n",
    "from sklearn.feature_extraction import DictVectorizer\n",
    "from keras.preprocessing.sequence import pad_sequences\n",
    "from sklearn.feature_extraction.text import TfidfVectorizer\n",
    "from sklearn.feature_extraction.text import CountVectorizer\n",
    "from sklearn.feature_extraction.text import TfidfTransformer\n",
    "from sklearn.preprocessing import StandardScaler, OneHotEncoder\n",
    "from sklearn.model_selection import train_test_split,GridSearchCV\n",
    "from keras.layers import Dense, Embedding, LSTM, SpatialDropout1D\n",
    "from keras.layers import LSTM, Activation, Dense, Dropout, Input, Embedding\n",
    "from keras.layers import Dense, Embedding, LSTM, GlobalAveragePooling1D, Flatten\n",
    "from sklearn.ensemble import RandomForestClassifier, AdaBoostClassifier, GradientBoostingClassifier"
   ]
  },
  {
   "cell_type": "code",
   "execution_count": 314,
   "metadata": {},
   "outputs": [],
   "source": [
    "warnings.filterwarnings(\"ignore\")"
   ]
  },
  {
   "cell_type": "code",
   "execution_count": 370,
   "metadata": {},
   "outputs": [],
   "source": [
    "df_train=pd.read_csv('Sarcasm Detection Dataset/Train.csv')\n",
    "df_test=pd.read_csv('Sarcasm Detection Dataset/Test.csv')"
   ]
  },
  {
   "cell_type": "code",
   "execution_count": 371,
   "metadata": {},
   "outputs": [
    {
     "data": {
      "text/html": [
       "<div>\n",
       "<style scoped>\n",
       "    .dataframe tbody tr th:only-of-type {\n",
       "        vertical-align: middle;\n",
       "    }\n",
       "\n",
       "    .dataframe tbody tr th {\n",
       "        vertical-align: top;\n",
       "    }\n",
       "\n",
       "    .dataframe thead th {\n",
       "        text-align: right;\n",
       "    }\n",
       "</style>\n",
       "<table border=\"1\" class=\"dataframe\">\n",
       "  <thead>\n",
       "    <tr style=\"text-align: right;\">\n",
       "      <th></th>\n",
       "      <th>ID</th>\n",
       "      <th>comment</th>\n",
       "      <th>date</th>\n",
       "      <th>down</th>\n",
       "      <th>parent_comment</th>\n",
       "      <th>score</th>\n",
       "      <th>top</th>\n",
       "      <th>topic</th>\n",
       "      <th>user</th>\n",
       "      <th>label</th>\n",
       "    </tr>\n",
       "  </thead>\n",
       "  <tbody>\n",
       "    <tr>\n",
       "      <th>0</th>\n",
       "      <td>uid_590555</td>\n",
       "      <td>Well, let's be honest here, they don't actuall...</td>\n",
       "      <td>2015-04</td>\n",
       "      <td>0</td>\n",
       "      <td>They should shut the fuck up and let the commu...</td>\n",
       "      <td>2</td>\n",
       "      <td>2</td>\n",
       "      <td>starcitizen</td>\n",
       "      <td>Combat_Wombatz</td>\n",
       "      <td>0</td>\n",
       "    </tr>\n",
       "    <tr>\n",
       "      <th>1</th>\n",
       "      <td>uid_671762</td>\n",
       "      <td>Well, I didn't need evidence to believe in com...</td>\n",
       "      <td>2016-12</td>\n",
       "      <td>-1</td>\n",
       "      <td>You need evidence to kill people? I thought we...</td>\n",
       "      <td>6</td>\n",
       "      <td>-1</td>\n",
       "      <td>EnoughCommieSpam</td>\n",
       "      <td>starkadd</td>\n",
       "      <td>1</td>\n",
       "    </tr>\n",
       "    <tr>\n",
       "      <th>2</th>\n",
       "      <td>uid_519689</td>\n",
       "      <td>Who does an \"official promo\" in 360p?</td>\n",
       "      <td>2013-11</td>\n",
       "      <td>0</td>\n",
       "      <td>2014 BMW S1000R: Official Promo</td>\n",
       "      <td>3</td>\n",
       "      <td>3</td>\n",
       "      <td>motorcycles</td>\n",
       "      <td>phybere</td>\n",
       "      <td>0</td>\n",
       "    </tr>\n",
       "    <tr>\n",
       "      <th>3</th>\n",
       "      <td>uid_788362</td>\n",
       "      <td>Grotto koth was the best</td>\n",
       "      <td>2015-09</td>\n",
       "      <td>0</td>\n",
       "      <td>Not really that memorable lol if you want memo...</td>\n",
       "      <td>2</td>\n",
       "      <td>2</td>\n",
       "      <td>hcfactions</td>\n",
       "      <td>m0xyMC</td>\n",
       "      <td>1</td>\n",
       "    </tr>\n",
       "    <tr>\n",
       "      <th>4</th>\n",
       "      <td>uid_299252</td>\n",
       "      <td>Neal's back baby</td>\n",
       "      <td>2015-11</td>\n",
       "      <td>0</td>\n",
       "      <td>James Neal hit on Zach Parise</td>\n",
       "      <td>-5</td>\n",
       "      <td>-5</td>\n",
       "      <td>hockey</td>\n",
       "      <td>Somuch101</td>\n",
       "      <td>1</td>\n",
       "    </tr>\n",
       "  </tbody>\n",
       "</table>\n",
       "</div>"
      ],
      "text/plain": [
       "           ID                                            comment     date  \\\n",
       "0  uid_590555  Well, let's be honest here, they don't actuall...  2015-04   \n",
       "1  uid_671762  Well, I didn't need evidence to believe in com...  2016-12   \n",
       "2  uid_519689              Who does an \"official promo\" in 360p?  2013-11   \n",
       "3  uid_788362                           Grotto koth was the best  2015-09   \n",
       "4  uid_299252                                   Neal's back baby  2015-11   \n",
       "\n",
       "   down                                     parent_comment  score  top  \\\n",
       "0     0  They should shut the fuck up and let the commu...      2    2   \n",
       "1    -1  You need evidence to kill people? I thought we...      6   -1   \n",
       "2     0                    2014 BMW S1000R: Official Promo      3    3   \n",
       "3     0  Not really that memorable lol if you want memo...      2    2   \n",
       "4     0                      James Neal hit on Zach Parise     -5   -5   \n",
       "\n",
       "              topic            user  label  \n",
       "0       starcitizen  Combat_Wombatz      0  \n",
       "1  EnoughCommieSpam        starkadd      1  \n",
       "2       motorcycles         phybere      0  \n",
       "3        hcfactions          m0xyMC      1  \n",
       "4            hockey       Somuch101      1  "
      ]
     },
     "execution_count": 371,
     "metadata": {},
     "output_type": "execute_result"
    }
   ],
   "source": [
    "df_train.head()"
   ]
  },
  {
   "cell_type": "code",
   "execution_count": 372,
   "metadata": {},
   "outputs": [],
   "source": [
    "def EDA(data):\n",
    "    display(data.drop([],axis=1).describe())\n",
    "    sns.heatmap(data.drop([],axis=1).corr())\n",
    "    data.isna().sum()"
   ]
  },
  {
   "cell_type": "markdown",
   "metadata": {},
   "source": [
    "### Cleaning"
   ]
  },
  {
   "cell_type": "code",
   "execution_count": 373,
   "metadata": {},
   "outputs": [],
   "source": [
    "#Entire dataset\n",
    "def clean_and_process(data):\n",
    "#     data['top'].fillna(data['top'].median(), inplace = True)\n",
    "#     data['top'].fillna(data['top'].mode()[0], inplace = True)\n",
    "#     data.fillna({x:'' for x in ['summary','positives', 'negatives','advice_to_mgmt']}, inplace=True)\n",
    "    \n",
    "    drop_column = ['user']\n",
    "    data.drop(drop_column, axis=1, inplace = True)\n",
    "    \n",
    "    # Embedding for LSTM\n",
    "    tkn = Tokenizer(num_words=10000)\n",
    "    tkn.fit_on_texts(data['comment'])\n",
    "    data['tokenized'] = tkn.texts_to_sequences(data['comment'])\n",
    "    max_pad_length = data.tokenized.map(lambda x: len(x)).max()\n",
    "    data['tokenized'] =pad_sequences(df_train['tokenized'], maxlen= max_pad_length, padding='pre').tolist()\n",
    "    \n",
    "\n",
    "# Use TextBlob\n",
    "def textblob_tokenizer(str_input):\n",
    "    blob = TextBlob(str_input.lower())\n",
    "    tokens = blob.words\n",
    "    words = [token for token in tokens]\n",
    "    return words\n",
    "clean_and_process(df_train)"
   ]
  },
  {
   "cell_type": "markdown",
   "metadata": {},
   "source": [
    "### Feature Engineering"
   ]
  },
  {
   "cell_type": "code",
   "execution_count": 375,
   "metadata": {},
   "outputs": [],
   "source": [
    "def features(data):\n",
    "    data['date']=pd.to_datetime(data.date, errors='coerce')\n",
    "    data['month']=data.date.dt.month_name()\n",
    "    data['day']=data.date.dt.day_name()\n",
    "    data['year']=data.date.dt.year\n",
    "    data['prod']=data['top']*data['down']\n",
    "    topicscore=data.groupby('topic').score.mean()\n",
    "    #score\n",
    "    data['topic_score']=data.topic.apply(lambda x:topicscore[x])\n",
    "    data['diff_score']=data['topic_score']-data['score']\n",
    "    \n",
    "    #count \n",
    "    data['comma_count'] = data['comment'].apply(lambda x: str(x).count(','))\n",
    "    data['ex_count'] = data['comment'].apply(lambda x: str(x).count('!'))\n",
    "    data['quot_count'] = data['comment'].apply(lambda x: str(x).count('\"'))\n",
    "    data['ques_count'] = data['comment'].apply(lambda x: str(x).count('?'))\n",
    "    data['hash_count'] = data['comment'].apply(lambda x: str(x).count('#'))\n",
    "    data['upper_count'] = data['comment'].apply(lambda x: sum([1 for i in str(x) if i.isupper()]))\n",
    "    \n",
    "    data['p_comma_count'] = data['parent_comment'].apply(lambda x: str(x).count(','))\n",
    "    data['p_ex_count'] = data['parent_comment'].apply(lambda x: str(x).count('!'))\n",
    "    data['p_quot_count'] = data['parent_comment'].apply(lambda x: str(x).count('\"'))\n",
    "    data['p_ques_count'] = data['parent_comment'].apply(lambda x: str(x).count('?'))\n",
    "    data['p_hash_count'] = data['parent_comment'].apply(lambda x: str(x).count('#'))\n",
    "    data['p_upper_count'] = data['parent_comment'].apply(lambda x: sum([1 for i in str(x) if i.isupper()]))\n",
    "    \n",
    "    data['wlen_avg']= data['comment'].apply(lambda x:np.mean([len(i) for i in x.split()]))\n",
    "    data['wlen_max']=data['comment'].apply(lambda x:np.max([len(i) for i in x.split()]))\n",
    "    data['first']=data['comment'].apply(lambda x:str(x).lower().split(' ')[0])\n",
    "    data['last']=data['comment'].apply(lambda x:str(x).lower().split(' ')[-1])\n",
    "    data['com_par']=data['comment']+' '+data['parent_comment']\n",
    "    \n",
    "    data['parent_comment_len'] = data['parent_comment'].apply(lambda x: len(str(x).split(\" \")))\n",
    "    data['comment_len'] = data['comment'].apply(lambda x: len(str(x).split(\" \")))\n",
    "    \n",
    "    data['comment_sentiment']= data['comment'].apply(lambda x:TextBlob(str(x)).sentiment.polarity)\n",
    "    data['parent_comment_sentiment']= data['parent_comment'].apply(lambda x:TextBlob(str(x)).sentiment.polarity)\n",
    "    data['com_par_sentiment']= abs(data['comment_sentiment']-data['parent_comment_sentiment'])"
   ]
  },
  {
   "cell_type": "code",
   "execution_count": 376,
   "metadata": {},
   "outputs": [],
   "source": [
    "features(df_train)\n",
    "features(df_test)"
   ]
  },
  {
   "cell_type": "markdown",
   "metadata": {},
   "source": [
    "### EDA"
   ]
  },
  {
   "cell_type": "code",
   "execution_count": 377,
   "metadata": {
    "scrolled": false
   },
   "outputs": [
    {
     "data": {
      "text/html": [
       "<div>\n",
       "<style scoped>\n",
       "    .dataframe tbody tr th:only-of-type {\n",
       "        vertical-align: middle;\n",
       "    }\n",
       "\n",
       "    .dataframe tbody tr th {\n",
       "        vertical-align: top;\n",
       "    }\n",
       "\n",
       "    .dataframe thead th {\n",
       "        text-align: right;\n",
       "    }\n",
       "</style>\n",
       "<table border=\"1\" class=\"dataframe\">\n",
       "  <thead>\n",
       "    <tr style=\"text-align: right;\">\n",
       "      <th></th>\n",
       "      <th>down</th>\n",
       "      <th>score</th>\n",
       "      <th>top</th>\n",
       "      <th>label</th>\n",
       "      <th>year</th>\n",
       "      <th>prod</th>\n",
       "      <th>topic_score</th>\n",
       "      <th>diff_score</th>\n",
       "      <th>comma_count</th>\n",
       "      <th>ex_count</th>\n",
       "      <th>...</th>\n",
       "      <th>p_ques_count</th>\n",
       "      <th>p_hash_count</th>\n",
       "      <th>p_upper_count</th>\n",
       "      <th>wlen_avg</th>\n",
       "      <th>wlen_max</th>\n",
       "      <th>parent_comment_len</th>\n",
       "      <th>comment_len</th>\n",
       "      <th>comment_sentiment</th>\n",
       "      <th>parent_comment_sentiment</th>\n",
       "      <th>com_par_sentiment</th>\n",
       "    </tr>\n",
       "  </thead>\n",
       "  <tbody>\n",
       "    <tr>\n",
       "      <th>count</th>\n",
       "      <td>15000.000000</td>\n",
       "      <td>15000.000000</td>\n",
       "      <td>15000.000000</td>\n",
       "      <td>15000.000000</td>\n",
       "      <td>15000.000000</td>\n",
       "      <td>15000.000000</td>\n",
       "      <td>15000.000000</td>\n",
       "      <td>1.500000e+04</td>\n",
       "      <td>15000.000000</td>\n",
       "      <td>15000.000000</td>\n",
       "      <td>...</td>\n",
       "      <td>15000.000000</td>\n",
       "      <td>15000.000000</td>\n",
       "      <td>15000.000000</td>\n",
       "      <td>15000.000000</td>\n",
       "      <td>15000.000000</td>\n",
       "      <td>15000.000000</td>\n",
       "      <td>15000.000000</td>\n",
       "      <td>15000.000000</td>\n",
       "      <td>15000.000000</td>\n",
       "      <td>15000.000000</td>\n",
       "    </tr>\n",
       "    <tr>\n",
       "      <th>mean</th>\n",
       "      <td>-0.145333</td>\n",
       "      <td>7.194667</td>\n",
       "      <td>5.457600</td>\n",
       "      <td>0.501800</td>\n",
       "      <td>2015.051533</td>\n",
       "      <td>0.145333</td>\n",
       "      <td>7.194667</td>\n",
       "      <td>6.723155e-15</td>\n",
       "      <td>0.392533</td>\n",
       "      <td>0.094600</td>\n",
       "      <td>...</td>\n",
       "      <td>0.321733</td>\n",
       "      <td>0.009133</td>\n",
       "      <td>5.219267</td>\n",
       "      <td>4.763506</td>\n",
       "      <td>8.549000</td>\n",
       "      <td>24.376467</td>\n",
       "      <td>10.475667</td>\n",
       "      <td>0.060618</td>\n",
       "      <td>0.054030</td>\n",
       "      <td>0.267545</td>\n",
       "    </tr>\n",
       "    <tr>\n",
       "      <th>std</th>\n",
       "      <td>0.352448</td>\n",
       "      <td>46.586034</td>\n",
       "      <td>32.236574</td>\n",
       "      <td>0.500013</td>\n",
       "      <td>1.215693</td>\n",
       "      <td>0.352448</td>\n",
       "      <td>10.725057</td>\n",
       "      <td>4.533466e+01</td>\n",
       "      <td>0.732544</td>\n",
       "      <td>0.302308</td>\n",
       "      <td>...</td>\n",
       "      <td>0.730290</td>\n",
       "      <td>0.166889</td>\n",
       "      <td>13.260401</td>\n",
       "      <td>4.492343</td>\n",
       "      <td>5.408643</td>\n",
       "      <td>41.755339</td>\n",
       "      <td>8.141988</td>\n",
       "      <td>0.285553</td>\n",
       "      <td>0.269332</td>\n",
       "      <td>0.270083</td>\n",
       "    </tr>\n",
       "    <tr>\n",
       "      <th>min</th>\n",
       "      <td>-1.000000</td>\n",
       "      <td>-111.000000</td>\n",
       "      <td>-111.000000</td>\n",
       "      <td>0.000000</td>\n",
       "      <td>2009.000000</td>\n",
       "      <td>0.000000</td>\n",
       "      <td>-38.000000</td>\n",
       "      <td>-2.719455e+03</td>\n",
       "      <td>0.000000</td>\n",
       "      <td>0.000000</td>\n",
       "      <td>...</td>\n",
       "      <td>0.000000</td>\n",
       "      <td>0.000000</td>\n",
       "      <td>0.000000</td>\n",
       "      <td>1.000000</td>\n",
       "      <td>1.000000</td>\n",
       "      <td>1.000000</td>\n",
       "      <td>1.000000</td>\n",
       "      <td>-1.000000</td>\n",
       "      <td>-1.000000</td>\n",
       "      <td>0.000000</td>\n",
       "    </tr>\n",
       "    <tr>\n",
       "      <th>25%</th>\n",
       "      <td>0.000000</td>\n",
       "      <td>1.000000</td>\n",
       "      <td>0.000000</td>\n",
       "      <td>0.000000</td>\n",
       "      <td>2015.000000</td>\n",
       "      <td>0.000000</td>\n",
       "      <td>3.222222</td>\n",
       "      <td>0.000000e+00</td>\n",
       "      <td>0.000000</td>\n",
       "      <td>0.000000</td>\n",
       "      <td>...</td>\n",
       "      <td>0.000000</td>\n",
       "      <td>0.000000</td>\n",
       "      <td>1.000000</td>\n",
       "      <td>4.000000</td>\n",
       "      <td>7.000000</td>\n",
       "      <td>8.000000</td>\n",
       "      <td>5.000000</td>\n",
       "      <td>0.000000</td>\n",
       "      <td>0.000000</td>\n",
       "      <td>0.041667</td>\n",
       "    </tr>\n",
       "    <tr>\n",
       "      <th>50%</th>\n",
       "      <td>0.000000</td>\n",
       "      <td>2.000000</td>\n",
       "      <td>1.000000</td>\n",
       "      <td>1.000000</td>\n",
       "      <td>2015.000000</td>\n",
       "      <td>0.000000</td>\n",
       "      <td>5.732283</td>\n",
       "      <td>2.571429e+00</td>\n",
       "      <td>0.000000</td>\n",
       "      <td>0.000000</td>\n",
       "      <td>...</td>\n",
       "      <td>0.000000</td>\n",
       "      <td>0.000000</td>\n",
       "      <td>3.000000</td>\n",
       "      <td>4.500000</td>\n",
       "      <td>8.000000</td>\n",
       "      <td>14.000000</td>\n",
       "      <td>9.000000</td>\n",
       "      <td>0.000000</td>\n",
       "      <td>0.000000</td>\n",
       "      <td>0.200000</td>\n",
       "    </tr>\n",
       "    <tr>\n",
       "      <th>75%</th>\n",
       "      <td>0.000000</td>\n",
       "      <td>4.000000</td>\n",
       "      <td>3.000000</td>\n",
       "      <td>1.000000</td>\n",
       "      <td>2016.000000</td>\n",
       "      <td>0.000000</td>\n",
       "      <td>8.622378</td>\n",
       "      <td>6.773869e+00</td>\n",
       "      <td>1.000000</td>\n",
       "      <td>0.000000</td>\n",
       "      <td>...</td>\n",
       "      <td>0.000000</td>\n",
       "      <td>0.000000</td>\n",
       "      <td>5.000000</td>\n",
       "      <td>5.084239</td>\n",
       "      <td>10.000000</td>\n",
       "      <td>26.000000</td>\n",
       "      <td>14.000000</td>\n",
       "      <td>0.175000</td>\n",
       "      <td>0.175000</td>\n",
       "      <td>0.404779</td>\n",
       "    </tr>\n",
       "    <tr>\n",
       "      <th>max</th>\n",
       "      <td>0.000000</td>\n",
       "      <td>2993.000000</td>\n",
       "      <td>1340.000000</td>\n",
       "      <td>1.000000</td>\n",
       "      <td>2016.000000</td>\n",
       "      <td>1.000000</td>\n",
       "      <td>495.000000</td>\n",
       "      <td>2.735455e+02</td>\n",
       "      <td>18.000000</td>\n",
       "      <td>8.000000</td>\n",
       "      <td>...</td>\n",
       "      <td>23.000000</td>\n",
       "      <td>11.000000</td>\n",
       "      <td>720.000000</td>\n",
       "      <td>524.000000</td>\n",
       "      <td>524.000000</td>\n",
       "      <td>1770.000000</td>\n",
       "      <td>134.000000</td>\n",
       "      <td>1.000000</td>\n",
       "      <td>1.000000</td>\n",
       "      <td>1.800000</td>\n",
       "    </tr>\n",
       "  </tbody>\n",
       "</table>\n",
       "<p>8 rows × 27 columns</p>\n",
       "</div>"
      ],
      "text/plain": [
       "               down         score           top         label          year  \\\n",
       "count  15000.000000  15000.000000  15000.000000  15000.000000  15000.000000   \n",
       "mean      -0.145333      7.194667      5.457600      0.501800   2015.051533   \n",
       "std        0.352448     46.586034     32.236574      0.500013      1.215693   \n",
       "min       -1.000000   -111.000000   -111.000000      0.000000   2009.000000   \n",
       "25%        0.000000      1.000000      0.000000      0.000000   2015.000000   \n",
       "50%        0.000000      2.000000      1.000000      1.000000   2015.000000   \n",
       "75%        0.000000      4.000000      3.000000      1.000000   2016.000000   \n",
       "max        0.000000   2993.000000   1340.000000      1.000000   2016.000000   \n",
       "\n",
       "               prod   topic_score    diff_score   comma_count      ex_count  \\\n",
       "count  15000.000000  15000.000000  1.500000e+04  15000.000000  15000.000000   \n",
       "mean       0.145333      7.194667  6.723155e-15      0.392533      0.094600   \n",
       "std        0.352448     10.725057  4.533466e+01      0.732544      0.302308   \n",
       "min        0.000000    -38.000000 -2.719455e+03      0.000000      0.000000   \n",
       "25%        0.000000      3.222222  0.000000e+00      0.000000      0.000000   \n",
       "50%        0.000000      5.732283  2.571429e+00      0.000000      0.000000   \n",
       "75%        0.000000      8.622378  6.773869e+00      1.000000      0.000000   \n",
       "max        1.000000    495.000000  2.735455e+02     18.000000      8.000000   \n",
       "\n",
       "       ...  p_ques_count  p_hash_count  p_upper_count      wlen_avg  \\\n",
       "count  ...  15000.000000  15000.000000   15000.000000  15000.000000   \n",
       "mean   ...      0.321733      0.009133       5.219267      4.763506   \n",
       "std    ...      0.730290      0.166889      13.260401      4.492343   \n",
       "min    ...      0.000000      0.000000       0.000000      1.000000   \n",
       "25%    ...      0.000000      0.000000       1.000000      4.000000   \n",
       "50%    ...      0.000000      0.000000       3.000000      4.500000   \n",
       "75%    ...      0.000000      0.000000       5.000000      5.084239   \n",
       "max    ...     23.000000     11.000000     720.000000    524.000000   \n",
       "\n",
       "           wlen_max  parent_comment_len   comment_len  comment_sentiment  \\\n",
       "count  15000.000000        15000.000000  15000.000000       15000.000000   \n",
       "mean       8.549000           24.376467     10.475667           0.060618   \n",
       "std        5.408643           41.755339      8.141988           0.285553   \n",
       "min        1.000000            1.000000      1.000000          -1.000000   \n",
       "25%        7.000000            8.000000      5.000000           0.000000   \n",
       "50%        8.000000           14.000000      9.000000           0.000000   \n",
       "75%       10.000000           26.000000     14.000000           0.175000   \n",
       "max      524.000000         1770.000000    134.000000           1.000000   \n",
       "\n",
       "       parent_comment_sentiment  com_par_sentiment  \n",
       "count              15000.000000       15000.000000  \n",
       "mean                   0.054030           0.267545  \n",
       "std                    0.269332           0.270083  \n",
       "min                   -1.000000           0.000000  \n",
       "25%                    0.000000           0.041667  \n",
       "50%                    0.000000           0.200000  \n",
       "75%                    0.175000           0.404779  \n",
       "max                    1.000000           1.800000  \n",
       "\n",
       "[8 rows x 27 columns]"
      ]
     },
     "metadata": {},
     "output_type": "display_data"
    },
    {
     "data": {
      "image/png": "[encoded data removed]",
      "text/plain": [
       "<Figure size 432x288 with 2 Axes>"
      ]
     },
     "metadata": {
      "needs_background": "light"
     },
     "output_type": "display_data"
    }
   ],
   "source": [
    "EDA(df_train)"
   ]
  },
  {
   "cell_type": "markdown",
   "metadata": {},
   "source": [
    "### Top words"
   ]
  },
  {
   "cell_type": "code",
   "execution_count": 395,
   "metadata": {},
   "outputs": [],
   "source": [
    " stwd=set(stopwords.words('english'))"
   ]
  },
  {
   "cell_type": "code",
   "execution_count": null,
   "metadata": {},
   "outputs": [],
   "source": [
    "top=pd.concat(\n",
    "        [\n",
    "            pd.Series([i for i in  \" \".join(df_train[df_train.label==0].comment).split()  if i not in stwd]).value_counts()[:15].reset_index(),\n",
    "            pd.Series([i for i in  \" \".join(df_train[df_train.label==1].comment).split()  if i not in stwd]).value_counts()[:15].reset_index()\n",
    "        ],axis=1)\n",
    "top.columns=['Regular', 'RCount','Sarcastic','SCount']\n",
    "display(top)"
   ]
  },
  {
   "cell_type": "code",
   "execution_count": 396,
   "metadata": {},
   "outputs": [],
   "source": [
    "X = df_train.drop('label', axis=1)\n",
    "y = df_train['label']\n",
    "\n",
    "X_train, X_test, y_train, y_test = train_test_split(X, y, test_size=0.2,stratify=y)"
   ]
  },
  {
   "cell_type": "code",
   "execution_count": 397,
   "metadata": {},
   "outputs": [
    {
     "data": {
      "text/plain": [
       "['ID',\n",
       " 'comment',\n",
       " 'date',\n",
       " 'down',\n",
       " 'parent_comment',\n",
       " 'score',\n",
       " 'top',\n",
       " 'topic',\n",
       " 'tokenized',\n",
       " 'month',\n",
       " 'day',\n",
       " 'year',\n",
       " 'prod',\n",
       " 'topic_score',\n",
       " 'diff_score',\n",
       " 'comma_count',\n",
       " 'ex_count',\n",
       " 'quot_count',\n",
       " 'ques_count',\n",
       " 'hash_count',\n",
       " 'upper_count',\n",
       " 'p_comma_count',\n",
       " 'p_ex_count',\n",
       " 'p_quot_count',\n",
       " 'p_ques_count',\n",
       " 'p_hash_count',\n",
       " 'p_upper_count',\n",
       " 'wlen_avg',\n",
       " 'wlen_max',\n",
       " 'first',\n",
       " 'last',\n",
       " 'com_par',\n",
       " 'parent_comment_len',\n",
       " 'comment_len',\n",
       " 'comment_sentiment',\n",
       " 'parent_comment_sentiment',\n",
       " 'com_par_sentiment']"
      ]
     },
     "execution_count": 397,
     "metadata": {},
     "output_type": "execute_result"
    }
   ],
   "source": [
    "X_train.columns.tolist()"
   ]
  },
  {
   "cell_type": "markdown",
   "metadata": {},
   "source": [
    "### PreProcessing"
   ]
  },
  {
   "cell_type": "code",
   "execution_count": 380,
   "metadata": {},
   "outputs": [],
   "source": [
    "categorical_columns=['topic','first','last','month','day','year']\n",
    "text_columns='comment'\n",
    "numerical_columns=[\n",
    "                   'top','down','score','diff_score','prod',\n",
    "                    'wlen_avg','wlen_max',\n",
    "                   'parent_comment_sentiment','comment_sentiment','com_par_sentiment',\n",
    "                   'parent_comment_len','comment_len',\n",
    "                  'comma_count','ques_count','ex_count','quot_count','hash_count','upper_count',\n",
    "                  'p_comma_count','p_ques_count','p_ex_count','p_quot_count','p_hash_count','p_upper_count'\n",
    "]\n",
    "\n",
    "\n",
    "categorical_pipe = Pipeline([\n",
    "    ('imputer', SimpleImputer(strategy='constant', fill_value='missing')),\n",
    "    ('onehot', OneHotEncoder(handle_unknown='ignore',categories='auto'))\n",
    "])\n",
    "numerical_pipe = Pipeline([\n",
    "    ('imputer', SimpleImputer(strategy='median'))\n",
    "    ,('scaler',StandardScaler())\n",
    "])\n",
    "text_pipe= Pipeline([('vect', CountVectorizer(stop_words='english', tokenizer=textblob_tokenizer,decode_error='ignore',ngram_range=(1, 2),max_features=500000, min_df=4)),\n",
    "    ('tfidf', TfidfTransformer())]) #TfidfVectorizer for both\n",
    "partext_pipe= Pipeline([('par_vect', CountVectorizer(stop_words='english', tokenizer=textblob_tokenizer,decode_error='ignore',ngram_range=(1, 2),max_features=500000, min_df=4)),\n",
    "    ('tfidf', TfidfTransformer())]) #TfidfVectorizer for both\n",
    "\n",
    "\n",
    "preprocessing = ColumnTransformer(\n",
    "    [('cat', categorical_pipe, categorical_columns)\n",
    "     ,('num', numerical_pipe, numerical_columns)\n",
    "     ,('text',text_pipe,text_columns)\n",
    "     ,('ptxt',partext_pipe,'parent_comment')\n",
    "    ])\n"
   ]
  },
  {
   "cell_type": "markdown",
   "metadata": {},
   "source": [
    "### Model Selection"
   ]
  },
  {
   "cell_type": "code",
   "execution_count": 324,
   "metadata": {},
   "outputs": [
    {
     "name": "stdout",
     "output_type": "stream",
     "text": [
      "KNeighborsClassifier(algorithm='kd_tree', leaf_size=30, metric='minkowski',\n",
      "           metric_params=None, n_jobs=None, n_neighbors=3, p=2,\n",
      "           weights='uniform')\n",
      "model score: 0.534\n",
      "----------------------------------------------------------\n",
      "LogisticRegression(C=1.0, class_weight=None, dual=False, fit_intercept=True,\n",
      "          intercept_scaling=1, max_iter=100, multi_class='warn',\n",
      "          n_jobs=None, penalty='l1', random_state=None, solver='warn',\n",
      "          tol=0.0001, verbose=0, warm_start=False)\n",
      "model score: 0.663\n",
      "----------------------------------------------------------\n",
      "DecisionTreeClassifier(class_weight=None, criterion='gini', max_depth=None,\n",
      "            max_features=None, max_leaf_nodes=None,\n",
      "            min_impurity_decrease=0.0, min_impurity_split=None,\n",
      "            min_samples_leaf=1, min_samples_split=2,\n",
      "            min_weight_fraction_leaf=0.0, presort=False, random_state=None,\n",
      "            splitter='best')\n",
      "model score: 0.588\n",
      "----------------------------------------------------------\n",
      "RandomForestClassifier(bootstrap=True, class_weight=None, criterion='gini',\n",
      "            max_depth=None, max_features='auto', max_leaf_nodes=None,\n",
      "            min_impurity_decrease=0.0, min_impurity_split=None,\n",
      "            min_samples_leaf=1, min_samples_split=2,\n",
      "            min_weight_fraction_leaf=0.0, n_estimators=10, n_jobs=None,\n",
      "            oob_score=False, random_state=None, verbose=0,\n",
      "            warm_start=False)\n",
      "model score: 0.616\n",
      "----------------------------------------------------------\n",
      "AdaBoostClassifier(algorithm='SAMME.R', base_estimator=None,\n",
      "          learning_rate=1.0, n_estimators=50, random_state=None)\n",
      "model score: 0.635\n",
      "----------------------------------------------------------\n",
      "GradientBoostingClassifier(criterion='friedman_mse', init=None,\n",
      "              learning_rate=0.1, loss='deviance', max_depth=3,\n",
      "              max_features=None, max_leaf_nodes=None,\n",
      "              min_impurity_decrease=0.0, min_impurity_split=None,\n",
      "              min_samples_leaf=1, min_samples_split=2,\n",
      "              min_weight_fraction_leaf=0.0, n_estimators=100,\n",
      "              n_iter_no_change=None, presort='auto', random_state=None,\n",
      "              subsample=1.0, tol=0.0001, validation_fraction=0.1,\n",
      "              verbose=0, warm_start=False)\n",
      "model score: 0.652\n",
      "----------------------------------------------------------\n",
      "XGBClassifier(base_score=0.5, booster='gbtree', colsample_bylevel=1,\n",
      "       colsample_bynode=1, colsample_bytree=1, gamma=0, gpu_id=-1,\n",
      "       importance_type='gain', interaction_constraints='',\n",
      "       learning_rate=0.300000012, max_delta_step=0, max_depth=6,\n",
      "       min_child_weight=1, missing=nan, monotone_constraints='()',\n",
      "       n_estimators=100, n_jobs=0, num_parallel_tree=1,\n",
      "       objective='binary:logistic', random_state=0, reg_alpha=0,\n",
      "       reg_lambda=1, scale_pos_weight=1, subsample=1, tree_method='exact',\n",
      "       validate_parameters=1, verbosity=None)\n",
      "model score: 0.658\n",
      "----------------------------------------------------------\n"
     ]
    }
   ],
   "source": [
    "clfs=[]\n",
    "\n",
    "classifiers = [\n",
    "    KNeighborsClassifier(algorithm='kd_tree',n_neighbors=3),\n",
    "    LogisticRegression(penalty='l1'),\n",
    "    DecisionTreeClassifier(),\n",
    "    RandomForestClassifier(),\n",
    "    AdaBoostClassifier(),\n",
    "    GradientBoostingClassifier(),\n",
    "    XGBClassifier()\n",
    "    ]\n",
    "for classifier in classifiers:\n",
    "    pipe = Pipeline(steps=[('preprocessor', preprocessing),\n",
    "                      ('classifier', classifier)])\n",
    "    pipe.fit(X_train, y_train)\n",
    "    clfs.append(pipe.named_steps['classifier'])\n",
    "    print(classifier)\n",
    "    print(\"model score: %.3f\" % f1_score(y_test, pipe.predict(X_test),average='weighted'))\n",
    "    print('----------------------------------------------------------')"
   ]
  },
  {
   "cell_type": "code",
   "execution_count": 235,
   "metadata": {},
   "outputs": [],
   "source": [
    "def plot_confusion_matrix(cm, classes,\n",
    "                          normalize=False,\n",
    "                          title='Confusion matrix',\n",
    "                          cmap=plt.cm.Blues):\n",
    "\n",
    "   \n",
    "    if normalize:\n",
    "        cm = cm.astype('float') / cm.sum(axis=1)[:, np.newaxis]\n",
    "\n",
    "    #print(cm)\n",
    "    plt.imshow(cm, interpolation='nearest', cmap=cmap)\n",
    "    plt.title(title)\n",
    "    plt.colorbar()\n",
    "    tick_marks = np.arange(len(classes))\n",
    "    plt.xticks(tick_marks, classes, rotation=45)\n",
    "    plt.yticks(tick_marks, classes)\n",
    "\n",
    "    fmt = '.2f' if normalize else 'd'\n",
    "    thresh = cm.max() / 2.\n",
    "    for i, j in itertools.product(range(cm.shape[0]), range(cm.shape[1])):\n",
    "        plt.text(j, i, format(cm[i, j], fmt),\n",
    "                 horizontalalignment=\"center\",\n",
    "                 color=\"grey\" if cm[i, j] > thresh else \"black\")\n",
    "\n",
    "    plt.ylabel('True label')\n",
    "    plt.xlabel('Predicted label')\n",
    "    plt.tight_layout()"
   ]
  },
  {
   "cell_type": "code",
   "execution_count": 236,
   "metadata": {},
   "outputs": [
    {
     "data": {
      "image/png": "[encoded data removed]",
      "text/plain": [
       "<Figure size 432x288 with 2 Axes>"
      ]
     },
     "metadata": {
      "needs_background": "light"
     },
     "output_type": "display_data"
    }
   ],
   "source": [
    "cnf_matrix = confusion_matrix(y_test, pipe.predict(X_test))\n",
    "np.set_printoptions(precision=2)\n",
    "plt.figure()\n",
    "plot_confusion_matrix(cnf_matrix,classes=[0,1],title='Confusion matrix, without normalization')"
   ]
  },
  {
   "cell_type": "markdown",
   "metadata": {},
   "source": [
    "### Hyper parmeter Tuning / GridSearchCV (time consuming)"
   ]
  },
  {
   "cell_type": "code",
   "execution_count": 237,
   "metadata": {},
   "outputs": [],
   "source": [
    "#param_grid={'C': np.logspace(-2, 10, 13)}\n",
    "# params = {'classifier__loss': ['deviance'],\n",
    "#  'classifier__learning_rate': [0.01, 0.025, 0.05, 0.075, 0.1, 0.15, 0.2],\n",
    "#  'classifier__min_samples_split': [0.1 , 0.14, 0.17, 0.21, 0.25, 0.28, 0.32, 0.35, 0.39, 0.43, 0.46,\n",
    "#         0.5 ],\n",
    "#  'classifier__min_samples_leaf': [0.1 , 0.14, 0.17, 0.21, 0.25, 0.28, 0.32, 0.35, 0.39, 0.43, 0.46,\n",
    "#         0.5 ],\n",
    "#  'classifier__max_depth': [3, 5, 8],\n",
    "#  'classifier__max_features': ['log2', 'sqrt'],\n",
    "#  'classifier__criterion': ['friedman_mse', 'mae'],\n",
    "#  'classifier__subsample': [0.5, 0.618, 0.8, 0.85, 0.9, 0.95, 1.0],\n",
    "#  'classifier__n_estimators': [10]}\n",
    "\n",
    "# cv = KFold(5)\n",
    "# pipe = Pipeline([\n",
    "#     ('preprocess', preprocessing)\n",
    "#     ,('classifier', GradientBoostingClassifier())\n",
    "    \n",
    "# ])\n",
    "# grid_search = GridSearchCV(pipe, params, cv=cv)\n",
    "# grid_search.fit(X_train,y_train)\n",
    "# print(grid_search.best_params_)"
   ]
  },
  {
   "cell_type": "code",
   "execution_count": 238,
   "metadata": {},
   "outputs": [],
   "source": [
    "# f1_score(y_test,grid_search.best_estimator_.predict(X_test),average='weighted')"
   ]
  },
  {
   "cell_type": "markdown",
   "metadata": {},
   "source": [
    "### Feature Selection"
   ]
  },
  {
   "cell_type": "code",
   "execution_count": 239,
   "metadata": {},
   "outputs": [
    {
     "data": {
      "text/plain": [
       "0.6506695562079295"
      ]
     },
     "execution_count": 239,
     "metadata": {},
     "output_type": "execute_result"
    }
   ],
   "source": [
    "# F-1 score\n",
    "cls = Pipeline([\n",
    "    ('preprocessor', preprocessing)\n",
    "    ,('feature_selection', SelectFromModel(LogisticRegression(penalty='l1'),threshold='1.5*mean'))\n",
    "    ,('classifier',GradientBoostingClassifier() )\n",
    "    \n",
    "])\n",
    "\n",
    "cls.fit(X_train,y_train)\n",
    "f1_score(y_test,cls.predict(X_test),average='weighted')"
   ]
  },
  {
   "cell_type": "markdown",
   "metadata": {},
   "source": [
    "### Feature Importance"
   ]
  },
  {
   "cell_type": "code",
   "execution_count": 240,
   "metadata": {},
   "outputs": [
    {
     "data": {
      "image/png": "[encoded data removed]",
      "text/plain": [
       "<Figure size 432x288 with 1 Axes>"
      ]
     },
     "metadata": {
      "needs_background": "light"
     },
     "output_type": "display_data"
    }
   ],
   "source": [
    "ohe = (cls.named_steps['preprocessor']\n",
    "         .named_transformers_['cat']\n",
    "         .named_steps['onehot'])\n",
    "text_columns=cls.named_steps['preprocessor'].named_transformers_['text'].named_steps['vect'].get_feature_names()\n",
    "ptext_columns=cls.named_steps['preprocessor'].named_transformers_['ptxt'].named_steps['par_vect'].get_feature_names()\n",
    "\n",
    "feature_names = ohe.get_feature_names(input_features=categorical_columns)\n",
    "feature_names = np.r_[feature_names, numerical_columns,text_columns,ptext_columns]\n",
    "feature_names=feature_names[cls.named_steps['feature_selection'].get_support()]\n",
    "\n",
    "feature_importances = (\n",
    "    cls.named_steps['classifier'].feature_importances_)\n",
    "\n",
    "sorted_idx = feature_importances.argsort()[::-1]\n",
    "top_k = 20\n",
    "y_ticks = np.arange(0, top_k)\n",
    "fig, ax = plt.subplots()\n",
    "ax.barh(y_ticks, feature_importances[sorted_idx[:top_k]])\n",
    "ax.set_yticklabels(feature_names[sorted_idx[:top_k]])\n",
    "ax.set_yticks(y_ticks)\n",
    "ax.set_title(cls.named_steps['classifier'].__class__.__name__+\"Feature Importances\")\n",
    "fig.tight_layout()\n",
    "plt.show()"
   ]
  },
  {
   "cell_type": "markdown",
   "metadata": {},
   "source": [
    "### Ensemble Models"
   ]
  },
  {
   "cell_type": "code",
   "execution_count": 270,
   "metadata": {},
   "outputs": [
    {
     "data": {
      "text/plain": [
       "0.6658808993919003"
      ]
     },
     "execution_count": 270,
     "metadata": {},
     "output_type": "execute_result"
    }
   ],
   "source": [
    "\n",
    "eclf1 = VotingClassifier(estimators=[\n",
    "        ('xgb', XGBClassifier()), ('gbc', GradientBoostingClassifier()), ('lg', LogisticRegression(penalty='l1'))], voting='hard')\n",
    "\n",
    "\n",
    "ecls = Pipeline([\n",
    "    ('preprocessor', preprocessing)\n",
    "    ,('feature_selection', SelectFromModel(LogisticRegression(penalty='l1'),threshold='mean'))\n",
    "    ,('classifier',eclf1 )\n",
    "    \n",
    "])\n",
    "\n",
    "\n",
    "ecls.fit(X_train,y_train)\n",
    "f1_score(y_test,ecls.predict(X_test),average='weighted')\n",
    "\n",
    "\n"
   ]
  },
  {
   "cell_type": "markdown",
   "metadata": {},
   "source": [
    "## Using LSTM (Comment text only)"
   ]
  },
  {
   "cell_type": "code",
   "execution_count": 381,
   "metadata": {},
   "outputs": [],
   "source": [
    "transformer = FunctionTransformer(pad_sequences,kw_args={'maxlen': max_pad_length, 'padding':'pre'},validate=False)\n",
    "\n",
    "def build_model():\n",
    "    def f1(y_true, y_pred):\n",
    "        def recall(y_true, y_pred):\n",
    "            true_positives = K.sum(K.round(K.clip(y_true * y_pred, 0, 1)))\n",
    "            possible_positives = K.sum(K.round(K.clip(y_true, 0, 1)))\n",
    "            recall = true_positives / (possible_positives + K.epsilon())\n",
    "            return recall\n",
    "\n",
    "        def precision(y_true, y_pred):\n",
    "            true_positives = K.sum(K.round(K.clip(y_true * y_pred, 0, 1)))\n",
    "            predicted_positives = K.sum(K.round(K.clip(y_pred, 0, 1)))\n",
    "            precision = true_positives / (predicted_positives + K.epsilon())\n",
    "            return precision\n",
    "        precision = precision(y_true, y_pred)\n",
    "        recall = recall(y_true, y_pred)\n",
    "        return 2*((precision*recall)/(precision+recall+K.epsilon()))\n",
    "    \n",
    "    embed_size = 128\n",
    "    model = Sequential()\n",
    "\n",
    "    #Embedding Layer\n",
    "    model.add(Embedding( total_words,embed_size))\n",
    "\n",
    "    #LSTM input layer\n",
    "    model.add(LSTM(embed_size, activation='relu'))\n",
    "\n",
    "    #Intermediate layer\n",
    "    model.add(Dense(64, activation ='relu'))\n",
    "\n",
    "    #OutputLayer\n",
    "    model.add(Dense(1))\n",
    "    model.add(Activation('sigmoid'))\n",
    "    \n",
    "    model.compile(loss = 'binary_crossentropy', optimizer='adam')\n",
    "   \n",
    "    print(model.summary())\n",
    "    #accuracy = model.evaluate(X_test, y_test)[1]\n",
    "    return model"
   ]
  },
  {
   "cell_type": "code",
   "execution_count": 165,
   "metadata": {},
   "outputs": [
    {
     "name": "stdout",
     "output_type": "stream",
     "text": [
      "0.6944964118188759\n"
     ]
    }
   ],
   "source": [
    "lstm_model = build_model()\n",
    "lstm.fit(transformer.fit_transform(X_train.tokenized),y_train,epochs=2)\n",
    "y_pred=lstm_model.predict(transformer.fit_transform(X_test.tokenized),y_test)[0]\n",
    "\n",
    "y_pred[y_pred <= 0.5] = 0\n",
    "y_pred[y_pred > 0.5] = 1\n",
    "\n",
    "\n",
    "print(f1_score(y_test.to_numpy(),y_pred,average='weighted'))"
   ]
  },
  {
   "cell_type": "code",
   "execution_count": null,
   "metadata": {},
   "outputs": [
    {
     "name": "stdout",
     "output_type": "stream",
     "text": [
      "_________________________________________________________________\n",
      "Layer (type)                 Output Shape              Param #   \n",
      "=================================================================\n",
      "embedding_48 (Embedding)     (None, None, 128)         2276352   \n",
      "_________________________________________________________________\n",
      "lstm_48 (LSTM)               (None, 128)               131584    \n",
      "_________________________________________________________________\n",
      "dense_89 (Dense)             (None, 64)                8256      \n",
      "_________________________________________________________________\n",
      "dense_90 (Dense)             (None, 1)                 65        \n",
      "_________________________________________________________________\n",
      "activation_45 (Activation)   (None, 1)                 0         \n",
      "=================================================================\n",
      "Total params: 2,416,257\n",
      "Trainable params: 2,416,257\n",
      "Non-trainable params: 0\n",
      "_________________________________________________________________\n",
      "None\n",
      "Epoch 1/2\n",
      " 9152/12000 [=====================>........] - ETA: 2:02 - loss: 0.6721"
     ]
    }
   ],
   "source": [
    "lstm_model = build_model()\n",
    "lstm_model.fit(transformer.fit_transform(X_train.tokenized),y_train,epochs=2)"
   ]
  },
  {
   "cell_type": "code",
   "execution_count": 285,
   "metadata": {},
   "outputs": [
    {
     "name": "stdout",
     "output_type": "stream",
     "text": [
      "0.6581297704997127\n"
     ]
    }
   ],
   "source": [
    "y_pred=lstm_model.predict(preprocess_lstm(X_test,y_test)[0])\n",
    "\n",
    "y_pred[y_pred <= 0.5] = 0.\n",
    "y_pred[y_pred > 0.5] = 1\n",
    "\n",
    "\n",
    "print(f1_score(y_test.to_numpy(),y_pred,average='weighted'))"
   ]
  },
  {
   "cell_type": "code",
   "execution_count": 269,
   "metadata": {},
   "outputs": [
    {
     "data": {
      "text/plain": [
       "0.6517789623109864"
      ]
     },
     "execution_count": 269,
     "metadata": {},
     "output_type": "execute_result"
    }
   ],
   "source": [
    "f1_score(y_test,y_pred.reshape(1,-1)[0],average='weighted')"
   ]
  },
  {
   "cell_type": "markdown",
   "metadata": {},
   "source": [
    "### LSTM + XGBoost Together"
   ]
  },
  {
   "cell_type": "code",
   "execution_count": 432,
   "metadata": {},
   "outputs": [
    {
     "name": "stdout",
     "output_type": "stream",
     "text": [
      "_________________________________________________________________\n",
      "Layer (type)                 Output Shape              Param #   \n",
      "=================================================================\n",
      "embedding_45 (Embedding)     (None, None, 128)         2276352   \n",
      "_________________________________________________________________\n",
      "lstm_45 (LSTM)               (None, 128)               131584    \n",
      "_________________________________________________________________\n",
      "dense_83 (Dense)             (None, 64)                8256      \n",
      "_________________________________________________________________\n",
      "dense_84 (Dense)             (None, 1)                 65        \n",
      "_________________________________________________________________\n",
      "activation_42 (Activation)   (None, 1)                 0         \n",
      "=================================================================\n",
      "Total params: 2,416,257\n",
      "Trainable params: 2,416,257\n",
      "Non-trainable params: 0\n",
      "_________________________________________________________________\n",
      "None\n"
     ]
    }
   ],
   "source": [
    "prepadding = ColumnTransformer(\n",
    "    [('pre', transformer , 'tokenized')])\n",
    "\n",
    "ed = VotingClassifier(estimators = [\n",
    "    ('xgb',Pipeline([('preprocessor', preprocessing),('feature_selection', SelectFromModel(LogisticRegression(penalty='l1'),threshold='mean')),('classifier', XGBClassifier())])),\n",
    "    ('tkpd',Pipeline([('token_prepadding',prepadding ),('lstm',build_model())]))], voting='hard')\n"
   ]
  },
  {
   "cell_type": "code",
   "execution_count": null,
   "metadata": {},
   "outputs": [],
   "source": [
    "ed.fit(X_train,y_train)\n",
    "f1_score(y_test,ed.predict(X_test),average='weighted')\n"
   ]
  },
  {
   "cell_type": "markdown",
   "metadata": {},
   "source": [
    "### Pickle/ Save to File"
   ]
  },
  {
   "cell_type": "code",
   "execution_count": 51,
   "metadata": {},
   "outputs": [
    {
     "data": {
      "text/plain": [
       "0    4634\n",
       "1    3366\n",
       "Name: label, dtype: int64"
      ]
     },
     "execution_count": 51,
     "metadata": {},
     "output_type": "execute_result"
    }
   ],
   "source": [
    "#check\n",
    "df_test['label']=cls.predict(df_test)\n",
    "df_test['label'].value_counts()"
   ]
  },
  {
   "cell_type": "code",
   "execution_count": null,
   "metadata": {},
   "outputs": [],
   "source": [
    "# import pickle\n",
    "# s = pickle.dumps(cls)\n",
    "# cls_loaded = pickle.loads(s)"
   ]
  },
  {
   "cell_type": "code",
   "execution_count": 342,
   "metadata": {},
   "outputs": [],
   "source": [
    "output_columns=['ID','label']\n",
    "df_test[output_columns].to_csv('Dataset/submission.csv', index= False)"
   ]
  }
 ],
 "metadata": {
  "kernelspec": {
   "display_name": "Python 3",
   "language": "python",
   "name": "python3"
  },
  "language_info": {
   "codemirror_mode": {
    "name": "ipython",
    "version": 3
   },
   "file_extension": ".py",
   "mimetype": "text/x-python",
   "name": "python",
   "nbconvert_exporter": "python",
   "pygments_lexer": "ipython3",
   "version": "3.7.4"
  }
 },
 "nbformat": 4,
 "nbformat_minor": 2
}
